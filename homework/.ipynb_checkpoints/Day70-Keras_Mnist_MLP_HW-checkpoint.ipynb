{
 "cells": [
  {
   "cell_type": "markdown",
   "metadata": {},
   "source": [
    "# 作業目標:¶\n",
    "利用手寫辨識資料說明MLP 中, 神經網路層的多寡跟預測結果的差異"
   ]
  },
  {
   "cell_type": "markdown",
   "metadata": {},
   "source": [
    "# 作業重點:\n",
    "[練習]請嘗試新增一層或兩層看看最後預測結果是否有差異\n",
    "model.add(Dense(units=256, input_dim=784, kernel_initializer='normal', activation='relu'))\n"
   ]
  },
  {
   "cell_type": "markdown",
   "metadata": {
    "colab_type": "text",
    "id": "zfI5zCjRPlnc"
   },
   "source": [
    "# 資料預處理"
   ]
  },
  {
   "cell_type": "code",
   "execution_count": 1,
   "metadata": {
    "colab": {
     "autoexec": {
      "startup": false,
      "wait_interval": 0
     },
     "base_uri": "https://localhost:8080/",
     "height": 34
    },
    "colab_type": "code",
    "executionInfo": {
     "elapsed": 20601,
     "status": "ok",
     "timestamp": 1533441753568,
     "user": {
      "displayName": "Edward Cheng",
      "photoUrl": "//lh4.googleusercontent.com/-ANnwjGu3IBk/AAAAAAAAAAI/AAAAAAAAAAc/qXXg6Jek9xw/s50-c-k-no/photo.jpg",
      "userId": "112554017642991017343"
     },
     "user_tz": -480
    },
    "id": "GyIQ7tpGPlnf",
    "outputId": "f3642b99-3ef2-43fe-ee42-e17b1ef50cbb"
   },
   "outputs": [
    {
     "name": "stderr",
     "output_type": "stream",
     "text": [
      "Using TensorFlow backend.\n"
     ]
    }
   ],
   "source": [
    "from keras.utils import np_utils\n",
    "import numpy as np\n",
    "np.random.seed(10)"
   ]
  },
  {
   "cell_type": "code",
   "execution_count": 2,
   "metadata": {
    "colab": {
     "autoexec": {
      "startup": false,
      "wait_interval": 0
     },
     "base_uri": "https://localhost:8080/",
     "height": 51
    },
    "colab_type": "code",
    "executionInfo": {
     "elapsed": 5937,
     "status": "ok",
     "timestamp": 1533441759521,
     "user": {
      "displayName": "Edward Cheng",
      "photoUrl": "//lh4.googleusercontent.com/-ANnwjGu3IBk/AAAAAAAAAAI/AAAAAAAAAAc/qXXg6Jek9xw/s50-c-k-no/photo.jpg",
      "userId": "112554017642991017343"
     },
     "user_tz": -480
    },
    "id": "OLzoKlJRPlno",
    "outputId": "c75f10a4-951d-4b3b-ad5f-c8fc4dff0e96"
   },
   "outputs": [
    {
     "data": {
      "text/plain": [
       "(60000, 28, 28)"
      ]
     },
     "execution_count": 2,
     "metadata": {},
     "output_type": "execute_result"
    }
   ],
   "source": [
    "#載入手寫辨識的資料集\n",
    "from keras.datasets import mnist\n",
    "(x_train_image,y_train_label),\\\n",
    "(x_test_image,y_test_label)= mnist.load_data()\n",
    "x_train_image.shape\n",
    "# x_train_image[0]"
   ]
  },
  {
   "cell_type": "code",
   "execution_count": 3,
   "metadata": {
    "colab": {
     "autoexec": {
      "startup": false,
      "wait_interval": 0
     }
    },
    "colab_type": "code",
    "id": "QEuQwa4nPlnu"
   },
   "outputs": [
    {
     "data": {
      "text/plain": [
       "(60000, 784)"
      ]
     },
     "execution_count": 3,
     "metadata": {},
     "output_type": "execute_result"
    }
   ],
   "source": [
    "#指定測試集與訓練資料集\n",
    "x_Train =x_train_image.reshape(60000, 784).astype('float32')\n",
    "x_Test = x_test_image.reshape(10000, 784).astype('float32')\n",
    "x_Train.shape"
   ]
  },
  {
   "cell_type": "code",
   "execution_count": 4,
   "metadata": {
    "colab": {
     "autoexec": {
      "startup": false,
      "wait_interval": 0
     }
    },
    "colab_type": "code",
    "id": "YisRq-SxPln0"
   },
   "outputs": [],
   "source": [
    "# normalize inputs from 0-255 to 0-1\n",
    "x_Train_normalize = x_Train / 255\n",
    "x_Test_normalize = x_Test / 255"
   ]
  },
  {
   "cell_type": "code",
   "execution_count": 5,
   "metadata": {
    "colab": {
     "autoexec": {
      "startup": false,
      "wait_interval": 0
     }
    },
    "colab_type": "code",
    "id": "AHtfmzpfPln4"
   },
   "outputs": [],
   "source": [
    "#把LABEL轉成NUMERICAL Categorical \n",
    "y_Train_OneHot = np_utils.to_categorical(y_train_label)\n",
    "y_Test_OneHot = np_utils.to_categorical(y_test_label)"
   ]
  },
  {
   "cell_type": "markdown",
   "metadata": {
    "colab_type": "text",
    "id": "0s8PjvqJPln7"
   },
   "source": [
    "# 建立模型"
   ]
  },
  {
   "cell_type": "code",
   "execution_count": 6,
   "metadata": {
    "colab": {
     "autoexec": {
      "startup": false,
      "wait_interval": 0
     }
    },
    "colab_type": "code",
    "id": "N10v1eX2Pln8"
   },
   "outputs": [],
   "source": [
    "from keras.models import Sequential\n",
    "from keras.layers import Dense"
   ]
  },
  {
   "cell_type": "code",
   "execution_count": 7,
   "metadata": {
    "colab": {
     "autoexec": {
      "startup": false,
      "wait_interval": 0
     }
    },
    "colab_type": "code",
    "id": "jmaxrsXwPln-"
   },
   "outputs": [],
   "source": [
    "#建立模型"
   ]
  },
  {
   "cell_type": "code",
   "execution_count": 8,
   "metadata": {},
   "outputs": [],
   "source": [
    "#宣告採用序列模型\n",
    "model = Sequential()"
   ]
  },
  {
   "cell_type": "code",
   "execution_count": 9,
   "metadata": {},
   "outputs": [],
   "source": [
    "model.add(Dense(units=256, input_dim=784, kernel_initializer='normal', activation='relu'))\n",
    "# model.add(Dense(units=256, input_dim=784, kernel_initializer='normal', activation='relu'))\n",
    "# model.add(Dense(units=10, input_dim=784, kernel_initializer='normal', activation='relu'))\n",
    "#建構輸出層\n",
    "model.add(Dense(units=10, \n",
    "                kernel_initializer='normal', \n",
    "                activation='softmax'))"
   ]
  },
  {
   "cell_type": "code",
   "execution_count": 10,
   "metadata": {},
   "outputs": [
    {
     "name": "stdout",
     "output_type": "stream",
     "text": [
      "Model: \"sequential_1\"\n",
      "_________________________________________________________________\n",
      "Layer (type)                 Output Shape              Param #   \n",
      "=================================================================\n",
      "dense_1 (Dense)              (None, 256)               200960    \n",
      "_________________________________________________________________\n",
      "dense_2 (Dense)              (None, 10)                2570      \n",
      "=================================================================\n",
      "Total params: 203,530\n",
      "Trainable params: 203,530\n",
      "Non-trainable params: 0\n",
      "_________________________________________________________________\n",
      "None\n"
     ]
    }
   ],
   "source": [
    "print(model.summary())"
   ]
  },
  {
   "cell_type": "markdown",
   "metadata": {
    "colab_type": "text",
    "id": "jdoAZgv1PloK"
   },
   "source": [
    "# 訓練模型"
   ]
  },
  {
   "cell_type": "code",
   "execution_count": 11,
   "metadata": {
    "colab": {
     "autoexec": {
      "startup": false,
      "wait_interval": 0
     }
    },
    "colab_type": "code",
    "id": "5d5wrEL3PloK"
   },
   "outputs": [],
   "source": [
    "model.compile(loss='categorical_crossentropy', \n",
    "              optimizer='adam', metrics=['accuracy'])"
   ]
  },
  {
   "cell_type": "code",
   "execution_count": 12,
   "metadata": {
    "colab": {
     "autoexec": {
      "startup": false,
      "wait_interval": 0
     },
     "base_uri": "https://localhost:8080/",
     "height": 374
    },
    "colab_type": "code",
    "executionInfo": {
     "elapsed": 15426,
     "status": "ok",
     "timestamp": 1533441786624,
     "user": {
      "displayName": "Edward Cheng",
      "photoUrl": "//lh4.googleusercontent.com/-ANnwjGu3IBk/AAAAAAAAAAI/AAAAAAAAAAc/qXXg6Jek9xw/s50-c-k-no/photo.jpg",
      "userId": "112554017642991017343"
     },
     "user_tz": -480
    },
    "id": "VlpjoqQ9PloM",
    "outputId": "b91454c9-af9a-40fe-9736-b4a1c97462cd"
   },
   "outputs": [
    {
     "name": "stdout",
     "output_type": "stream",
     "text": [
      "Train on 48000 samples, validate on 12000 samples\n",
      "Epoch 1/50\n",
      "48000/48000 [==============================] - 3s 66us/step - loss: 0.2698 - accuracy: 0.9223 - val_loss: 0.1330 - val_accuracy: 0.9616\n",
      "Epoch 2/50\n",
      "48000/48000 [==============================] - 3s 66us/step - loss: 0.1080 - accuracy: 0.9683 - val_loss: 0.1018 - val_accuracy: 0.9690\n",
      "Epoch 3/50\n",
      "48000/48000 [==============================] - 3s 65us/step - loss: 0.0715 - accuracy: 0.9784 - val_loss: 0.0929 - val_accuracy: 0.9728\n",
      "Epoch 4/50\n",
      "48000/48000 [==============================] - 3s 66us/step - loss: 0.0510 - accuracy: 0.9842 - val_loss: 0.0811 - val_accuracy: 0.9764\n",
      "Epoch 5/50\n",
      "48000/48000 [==============================] - 3s 67us/step - loss: 0.0371 - accuracy: 0.9885 - val_loss: 0.0770 - val_accuracy: 0.9770\n",
      "Epoch 6/50\n",
      "48000/48000 [==============================] - 3s 65us/step - loss: 0.0258 - accuracy: 0.9922 - val_loss: 0.0753 - val_accuracy: 0.9785\n",
      "Epoch 7/50\n",
      "48000/48000 [==============================] - 3s 65us/step - loss: 0.0209 - accuracy: 0.9934 - val_loss: 0.0887 - val_accuracy: 0.9774\n",
      "Epoch 8/50\n",
      "48000/48000 [==============================] - 3s 67us/step - loss: 0.0169 - accuracy: 0.9945 - val_loss: 0.0824 - val_accuracy: 0.9772\n",
      "Epoch 9/50\n",
      "48000/48000 [==============================] - 3s 68us/step - loss: 0.0125 - accuracy: 0.9962 - val_loss: 0.0981 - val_accuracy: 0.9749\n",
      "Epoch 10/50\n",
      "48000/48000 [==============================] - 3s 69us/step - loss: 0.0118 - accuracy: 0.9962 - val_loss: 0.0907 - val_accuracy: 0.9793\n",
      "Epoch 11/50\n",
      "48000/48000 [==============================] - 3s 73us/step - loss: 0.0092 - accuracy: 0.9972 - val_loss: 0.0974 - val_accuracy: 0.9771\n",
      "Epoch 12/50\n",
      "48000/48000 [==============================] - 3s 64us/step - loss: 0.0078 - accuracy: 0.9975 - val_loss: 0.0984 - val_accuracy: 0.9777\n",
      "Epoch 13/50\n",
      "48000/48000 [==============================] - 3s 64us/step - loss: 0.0089 - accuracy: 0.9972 - val_loss: 0.1035 - val_accuracy: 0.9762\n",
      "Epoch 14/50\n",
      "48000/48000 [==============================] - 3s 64us/step - loss: 0.0050 - accuracy: 0.9985 - val_loss: 0.1045 - val_accuracy: 0.9789\n",
      "Epoch 15/50\n",
      "48000/48000 [==============================] - 3s 67us/step - loss: 0.0078 - accuracy: 0.9976 - val_loss: 0.1400 - val_accuracy: 0.9726\n",
      "Epoch 16/50\n",
      "48000/48000 [==============================] - 3s 65us/step - loss: 0.0061 - accuracy: 0.9979 - val_loss: 0.1097 - val_accuracy: 0.9775\n",
      "Epoch 17/50\n",
      "48000/48000 [==============================] - 3s 64us/step - loss: 0.0041 - accuracy: 0.9988 - val_loss: 0.1056 - val_accuracy: 0.9800\n",
      "Epoch 18/50\n",
      "48000/48000 [==============================] - 3s 65us/step - loss: 0.0075 - accuracy: 0.9975 - val_loss: 0.1079 - val_accuracy: 0.9790\n",
      "Epoch 19/50\n",
      "48000/48000 [==============================] - 3s 66us/step - loss: 0.0030 - accuracy: 0.9992 - val_loss: 0.1064 - val_accuracy: 0.9796\n",
      "Epoch 20/50\n",
      "48000/48000 [==============================] - 3s 65us/step - loss: 0.0052 - accuracy: 0.9985 - val_loss: 0.1279 - val_accuracy: 0.9762\n",
      "Epoch 21/50\n",
      "48000/48000 [==============================] - 3s 63us/step - loss: 0.0040 - accuracy: 0.9988 - val_loss: 0.1273 - val_accuracy: 0.9782\n",
      "Epoch 22/50\n",
      "48000/48000 [==============================] - 3s 63us/step - loss: 0.0033 - accuracy: 0.9991 - val_loss: 0.1279 - val_accuracy: 0.9778\n",
      "Epoch 23/50\n",
      "48000/48000 [==============================] - 3s 65us/step - loss: 0.0068 - accuracy: 0.9979 - val_loss: 0.1350 - val_accuracy: 0.9790\n",
      "Epoch 24/50\n",
      "48000/48000 [==============================] - 3s 63us/step - loss: 0.0030 - accuracy: 0.9990 - val_loss: 0.1455 - val_accuracy: 0.9757\n",
      "Epoch 25/50\n",
      "48000/48000 [==============================] - 3s 64us/step - loss: 0.0051 - accuracy: 0.9984 - val_loss: 0.1380 - val_accuracy: 0.9773\n",
      "Epoch 26/50\n",
      "48000/48000 [==============================] - 3s 66us/step - loss: 0.0038 - accuracy: 0.9987 - val_loss: 0.1593 - val_accuracy: 0.9763\n",
      "Epoch 27/50\n",
      "48000/48000 [==============================] - 3s 63us/step - loss: 0.0020 - accuracy: 0.9994 - val_loss: 0.1436 - val_accuracy: 0.9784\n",
      "Epoch 28/50\n",
      "48000/48000 [==============================] - 3s 62us/step - loss: 0.0028 - accuracy: 0.9992 - val_loss: 0.1496 - val_accuracy: 0.9779\n",
      "Epoch 29/50\n",
      "48000/48000 [==============================] - 3s 62us/step - loss: 0.0063 - accuracy: 0.9980 - val_loss: 0.1569 - val_accuracy: 0.9778\n",
      "Epoch 30/50\n",
      "48000/48000 [==============================] - 3s 62us/step - loss: 0.0036 - accuracy: 0.9987 - val_loss: 0.1501 - val_accuracy: 0.9774\n",
      "Epoch 31/50\n",
      "48000/48000 [==============================] - 3s 64us/step - loss: 0.0035 - accuracy: 0.9990 - val_loss: 0.1530 - val_accuracy: 0.9799\n",
      "Epoch 32/50\n",
      "48000/48000 [==============================] - 3s 62us/step - loss: 0.0045 - accuracy: 0.9987 - val_loss: 0.1493 - val_accuracy: 0.9808\n",
      "Epoch 33/50\n",
      "48000/48000 [==============================] - 3s 63us/step - loss: 0.0026 - accuracy: 0.9993 - val_loss: 0.1686 - val_accuracy: 0.9759\n",
      "Epoch 34/50\n",
      "48000/48000 [==============================] - 3s 64us/step - loss: 0.0038 - accuracy: 0.9987 - val_loss: 0.1472 - val_accuracy: 0.9800\n",
      "Epoch 35/50\n",
      "48000/48000 [==============================] - 3s 65us/step - loss: 0.0047 - accuracy: 0.9984 - val_loss: 0.1573 - val_accuracy: 0.9787\n",
      "Epoch 36/50\n",
      "48000/48000 [==============================] - 3s 65us/step - loss: 0.0020 - accuracy: 0.9994 - val_loss: 0.1606 - val_accuracy: 0.9787\n",
      "Epoch 37/50\n",
      "48000/48000 [==============================] - 3s 62us/step - loss: 0.0017 - accuracy: 0.9995 - val_loss: 0.1485 - val_accuracy: 0.9807\n",
      "Epoch 38/50\n",
      "48000/48000 [==============================] - 3s 62us/step - loss: 0.0044 - accuracy: 0.9986 - val_loss: 0.1761 - val_accuracy: 0.9773\n",
      "Epoch 39/50\n",
      "48000/48000 [==============================] - 3s 64us/step - loss: 0.0035 - accuracy: 0.9990 - val_loss: 0.1788 - val_accuracy: 0.9799\n",
      "Epoch 40/50\n",
      "48000/48000 [==============================] - 3s 64us/step - loss: 0.0036 - accuracy: 0.9987 - val_loss: 0.1753 - val_accuracy: 0.9803\n",
      "Epoch 41/50\n",
      "48000/48000 [==============================] - 3s 63us/step - loss: 0.0013 - accuracy: 0.9996 - val_loss: 0.1597 - val_accuracy: 0.9807\n",
      "Epoch 42/50\n",
      "48000/48000 [==============================] - 3s 62us/step - loss: 0.0038 - accuracy: 0.9989 - val_loss: 0.2048 - val_accuracy: 0.9753\n",
      "Epoch 43/50\n",
      "48000/48000 [==============================] - 3s 63us/step - loss: 0.0030 - accuracy: 0.9989 - val_loss: 0.1655 - val_accuracy: 0.9807\n",
      "Epoch 44/50\n",
      "48000/48000 [==============================] - 3s 64us/step - loss: 5.0724e-04 - accuracy: 0.9998 - val_loss: 0.1846 - val_accuracy: 0.9793\n",
      "Epoch 45/50\n",
      "48000/48000 [==============================] - 3s 67us/step - loss: 0.0063 - accuracy: 0.9981 - val_loss: 0.1578 - val_accuracy: 0.9803\n",
      "Epoch 46/50\n",
      "48000/48000 [==============================] - 3s 66us/step - loss: 0.0041 - accuracy: 0.9986 - val_loss: 0.1675 - val_accuracy: 0.9794\n",
      "Epoch 47/50\n",
      "48000/48000 [==============================] - 3s 67us/step - loss: 0.0022 - accuracy: 0.9994 - val_loss: 0.1746 - val_accuracy: 0.9784\n",
      "Epoch 48/50\n",
      "48000/48000 [==============================] - 3s 65us/step - loss: 0.0038 - accuracy: 0.9990 - val_loss: 0.1746 - val_accuracy: 0.9804\n",
      "Epoch 49/50\n",
      "48000/48000 [==============================] - 3s 64us/step - loss: 0.0026 - accuracy: 0.9991 - val_loss: 0.1918 - val_accuracy: 0.9791\n",
      "Epoch 50/50\n",
      "48000/48000 [==============================] - 3s 65us/step - loss: 0.0019 - accuracy: 0.9996 - val_loss: 0.1719 - val_accuracy: 0.9801\n"
     ]
    }
   ],
   "source": [
    "train_history =model.fit(x=x_Train_normalize,\n",
    "                         y=y_Train_OneHot,validation_split=0.2, \n",
    "                         epochs=50, batch_size=32,verbose=1)"
   ]
  },
  {
   "cell_type": "markdown",
   "metadata": {
    "colab_type": "text",
    "id": "pV1Ftdb0PloP"
   },
   "source": [
    "# 以圖形顯示訓練過程"
   ]
  },
  {
   "cell_type": "code",
   "execution_count": 13,
   "metadata": {
    "colab": {
     "autoexec": {
      "startup": false,
      "wait_interval": 0
     }
    },
    "colab_type": "code",
    "id": "EEmuoa1dPloQ"
   },
   "outputs": [],
   "source": [
    "import matplotlib.pyplot as plt\n",
    "def show_train_history(train_history,train,validation):\n",
    "    plt.plot(train_history.history[train])\n",
    "    plt.plot(train_history.history[validation])\n",
    "    plt.title('Train History')\n",
    "    plt.ylabel(train)\n",
    "    plt.xlabel('Epoch')\n",
    "    plt.legend(['train', 'validation'], loc='upper left')\n",
    "    plt.show()"
   ]
  },
  {
   "cell_type": "code",
   "execution_count": 14,
   "metadata": {
    "colab": {
     "autoexec": {
      "startup": false,
      "wait_interval": 0
     },
     "base_uri": "https://localhost:8080/",
     "height": 376
    },
    "colab_type": "code",
    "executionInfo": {
     "elapsed": 1451,
     "status": "ok",
     "timestamp": 1533441789030,
     "user": {
      "displayName": "Edward Cheng",
      "photoUrl": "//lh4.googleusercontent.com/-ANnwjGu3IBk/AAAAAAAAAAI/AAAAAAAAAAc/qXXg6Jek9xw/s50-c-k-no/photo.jpg",
      "userId": "112554017642991017343"
     },
     "user_tz": -480
    },
    "id": "fvE2WsejPloT",
    "outputId": "bb56e170-8850-409e-bbb2-eb6b5b89e528"
   },
   "outputs": [
    {
     "data": {
      "image/png": "[encoded data removed]",
      "text/plain": [
       "<Figure size 432x288 with 1 Axes>"
      ]
     },
     "metadata": {
      "needs_background": "light"
     },
     "output_type": "display_data"
    }
   ],
   "source": [
    "show_train_history(train_history,'accuracy','val_accuracy')"
   ]
  },
  {
   "cell_type": "code",
   "execution_count": 17,
   "metadata": {
    "colab": {
     "autoexec": {
      "startup": false,
      "wait_interval": 0
     },
     "base_uri": "https://localhost:8080/",
     "height": 376
    },
    "colab_type": "code",
    "executionInfo": {
     "elapsed": 1937,
     "status": "ok",
     "timestamp": 1533441791049,
     "user": {
      "displayName": "Edward Cheng",
      "photoUrl": "//lh4.googleusercontent.com/-ANnwjGu3IBk/AAAAAAAAAAI/AAAAAAAAAAc/qXXg6Jek9xw/s50-c-k-no/photo.jpg",
      "userId": "112554017642991017343"
     },
     "user_tz": -480
    },
    "id": "zIYyrnFWPloW",
    "outputId": "4bdbd1fa-6f25-49af-88d0-8d35f6e2ecaa"
   },
   "outputs": [
    {
     "data": {
      "image/png": "[encoded data removed]",
      "text/plain": [
       "<Figure size 432x288 with 1 Axes>"
      ]
     },
     "metadata": {
      "needs_background": "light"
     },
     "output_type": "display_data"
    }
   ],
   "source": [
    "show_train_history(train_history,'loss','val_loss')"
   ]
  },
  {
   "cell_type": "markdown",
   "metadata": {
    "colab_type": "text",
    "id": "h1z2y0g-PloZ"
   },
   "source": [
    "# 評估模型準確率"
   ]
  },
  {
   "cell_type": "code",
   "execution_count": 18,
   "metadata": {
    "colab": {
     "autoexec": {
      "startup": false,
      "wait_interval": 0
     },
     "base_uri": "https://localhost:8080/",
     "height": 68
    },
    "colab_type": "code",
    "executionInfo": {
     "elapsed": 1425,
     "status": "ok",
     "timestamp": 1533441792584,
     "user": {
      "displayName": "Edward Cheng",
      "photoUrl": "//lh4.googleusercontent.com/-ANnwjGu3IBk/AAAAAAAAAAI/AAAAAAAAAAc/qXXg6Jek9xw/s50-c-k-no/photo.jpg",
      "userId": "112554017642991017343"
     },
     "user_tz": -480
    },
    "id": "vMawurJqPloZ",
    "outputId": "31465f8d-cfad-49b8-dc9e-90d643e6b4a8"
   },
   "outputs": [
    {
     "name": "stdout",
     "output_type": "stream",
     "text": [
      "10000/10000 [==============================] - 0s 17us/step\n",
      "\n",
      "accuracy= 0.9804999828338623\n"
     ]
    }
   ],
   "source": [
    "scores = model.evaluate(x_Test_normalize, y_Test_OneHot)\n",
    "print()\n",
    "print('accuracy=',scores[1])"
   ]
  },
  {
   "cell_type": "code",
   "execution_count": null,
   "metadata": {},
   "outputs": [],
   "source": []
  }
 ],
 "metadata": {
  "accelerator": "GPU",
  "colab": {
   "collapsed_sections": [],
   "default_view": {},
   "name": "Keras_Mnist_MLP_h256.ipynb",
   "provenance": [],
   "version": "0.3.2",
   "views": {}
  },
  "kernelspec": {
   "display_name": "Python 3",
   "language": "python",
   "name": "python3"
  },
  "language_info": {
   "codemirror_mode": {
    "name": "ipython",
    "version": 3
   },
   "file_extension": ".py",
   "mimetype": "text/x-python",
   "name": "python",
   "nbconvert_exporter": "python",
   "pygments_lexer": "ipython3",
   "version": "3.7.3"
  }
 },
 "nbformat": 4,
 "nbformat_minor": 1
}
